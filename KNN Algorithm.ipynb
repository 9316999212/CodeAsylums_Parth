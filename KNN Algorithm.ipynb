{
 "cells": [
  {
   "cell_type": "code",
   "execution_count": 6,
   "metadata": {},
   "outputs": [],
   "source": [
    "import operator\n"
   ]
  },
  {
   "cell_type": "code",
   "execution_count": null,
   "metadata": {},
   "outputs": [],
   "source": [
    "class knn:\n",
    "    def initial(self,k):\n",
    "        self.k=k\n",
    "    def fit(self,x_train,y_train):\n",
    "        self.x_train=x_train\n",
    "        self.y_train=y_train\n",
    "    def predict(self,x_train):\n",
    "        distance={}\n",
    "        counter=1\n",
    "        \n",
    "        for i in self.x_train:\n",
    "            distance[counter]=((x_test[0][0]-i[0])**2 + (x_test[0][1]-i[1])**2)**1/2\n",
    "            counter=counter+1\n",
    "            distance= sorted(distance.values())\n",
    "            \n",
    "        self.classify(distance=distnace[:self.k])\n",
    "    def classify(self,distance):\n",
    "        label=[]\n",
    "        for i in distance:\n",
    "            label.append(self,y_train[i[0]])"
   ]
  }
 ],
 "metadata": {
  "kernelspec": {
   "display_name": "Python 3",
   "language": "python",
   "name": "python3"
  },
  "language_info": {
   "codemirror_mode": {
    "name": "ipython",
    "version": 3
   },
   "file_extension": ".py",
   "mimetype": "text/x-python",
   "name": "python",
   "nbconvert_exporter": "python",
   "pygments_lexer": "ipython3",
   "version": "3.7.6"
  }
 },
 "nbformat": 4,
 "nbformat_minor": 4
}
